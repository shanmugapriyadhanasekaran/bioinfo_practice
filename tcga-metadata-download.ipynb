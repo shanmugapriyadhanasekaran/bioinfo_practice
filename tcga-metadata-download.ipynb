{
 "cells": [
  {
   "cell_type": "code",
   "execution_count": 1,
   "id": "7b7ebe1e",
   "metadata": {
    "execution": {
     "iopub.execute_input": "2022-03-02T12:15:50.139820Z",
     "iopub.status.busy": "2022-03-02T12:15:50.137961Z",
     "iopub.status.idle": "2022-03-02T12:15:50.141015Z",
     "shell.execute_reply": "2022-03-02T12:15:50.141513Z"
    },
    "papermill": {
     "duration": 0.018013,
     "end_time": "2022-03-02T12:15:50.141832",
     "exception": false,
     "start_time": "2022-03-02T12:15:50.123819",
     "status": "completed"
    },
    "tags": []
   },
   "outputs": [],
   "source": [
    "#Here i have written code for downloading the xml version of clinical metadata file."
   ]
  },
  {
   "cell_type": "code",
   "execution_count": 2,
   "id": "659e5613",
   "metadata": {
    "execution": {
     "iopub.execute_input": "2022-03-02T12:15:50.169570Z",
     "iopub.status.busy": "2022-03-02T12:15:50.168786Z",
     "iopub.status.idle": "2022-03-02T12:15:50.204223Z",
     "shell.execute_reply": "2022-03-02T12:15:50.203535Z"
    },
    "papermill": {
     "duration": 0.055873,
     "end_time": "2022-03-02T12:15:50.204399",
     "exception": false,
     "start_time": "2022-03-02T12:15:50.148526",
     "status": "completed"
    },
    "tags": []
   },
   "outputs": [],
   "source": [
    "#Loading packages\n",
    "import requests\n",
    "import json\n",
    "import re\n",
    "import pandas as pd\n",
    "\n",
    "#Manifest file for TCGA-BLCA was downloaded to get file ids\n",
    "BLCA_manifest = pd.read_csv('../input/tcga-clinical-metadata-download/gdc_manifest.txt', sep='\\t') \n",
    "BRCA_manifest = pd.read_csv('../input/tcga-clinical-metadata-download/gdc_manifest_BRCA.txt', sep='\\t')\n",
    "\n",
    "def download(manifest):\n",
    "    \n",
    "    manifest_id = manifest['id']\n",
    "    \n",
    "    #POST API method used to download the xml files containing the clinical data\n",
    "    data_endpt = \"https://api.gdc.cancer.gov/data\"\n",
    "    \n",
    "    #For test purpose only 10 ids are given\n",
    "    for i in manifest_id[0:10]:\n",
    "        ids = [i]\n",
    "        print(\"downloading:\", ids)\n",
    "\n",
    "        params = {\"ids\": ids}\n",
    "\n",
    "        response = requests.post(data_endpt,\n",
    "                        data = json.dumps(params),\n",
    "                        headers={\n",
    "                            \"Content-Type\": \"application/json\"\n",
    "                            })\n",
    "\n",
    "        response_head_cd = response.headers[\"Content-Disposition\"]\n",
    "\n",
    "        file_name = re.findall(\"filename=(.+)\", response_head_cd)[0]\n",
    "\n",
    "        with open(file_name, \"wb\") as output_file:\n",
    "            output_file.write(response.content)\n",
    "            \n",
    "\n"
   ]
  },
  {
   "cell_type": "code",
   "execution_count": 3,
   "id": "eaed4889",
   "metadata": {
    "execution": {
     "iopub.execute_input": "2022-03-02T12:15:50.228002Z",
     "iopub.status.busy": "2022-03-02T12:15:50.226953Z",
     "iopub.status.idle": "2022-03-02T12:15:59.633804Z",
     "shell.execute_reply": "2022-03-02T12:15:59.633076Z"
    },
    "papermill": {
     "duration": 9.423252,
     "end_time": "2022-03-02T12:15:59.633951",
     "exception": false,
     "start_time": "2022-03-02T12:15:50.210699",
     "status": "completed"
    },
    "tags": []
   },
   "outputs": [
    {
     "name": "stdout",
     "output_type": "stream",
     "text": [
      "downloading: ['000cd898-2caf-44b8-8b2c-4b9f07fb6090']\n",
      "downloading: ['003bc96d-e7e8-49e2-83db-a5dcb6f6cd47']\n",
      "downloading: ['00780bca-a22b-4685-aa91-b5462830c446']\n",
      "downloading: ['00dd96aa-5055-4fcc-ac61-92d47049d05a']\n",
      "downloading: ['010d8cd3-3d49-4f35-8f14-5a0111245453']\n",
      "downloading: ['01ae21c0-4687-44ab-8047-84f208377cc1']\n",
      "downloading: ['021d0c7f-e484-4bf7-b3b8-b89c091a8f48']\n",
      "downloading: ['021f9299-1bb3-48b0-a540-82933ff6ee0f']\n",
      "downloading: ['022f80f5-ee7d-4bbc-bbf4-99e973b294e8']\n",
      "downloading: ['027b53df-0c1f-4e4f-8e11-7368fc9c005a']\n"
     ]
    }
   ],
   "source": [
    "download(BLCA_manifest)"
   ]
  },
  {
   "cell_type": "code",
   "execution_count": 4,
   "id": "4085c2ef",
   "metadata": {
    "execution": {
     "iopub.execute_input": "2022-03-02T12:15:59.657751Z",
     "iopub.status.busy": "2022-03-02T12:15:59.657081Z",
     "iopub.status.idle": "2022-03-02T12:16:10.043020Z",
     "shell.execute_reply": "2022-03-02T12:16:10.042299Z"
    },
    "papermill": {
     "duration": 10.398673,
     "end_time": "2022-03-02T12:16:10.043198",
     "exception": false,
     "start_time": "2022-03-02T12:15:59.644525",
     "status": "completed"
    },
    "tags": []
   },
   "outputs": [
    {
     "name": "stdout",
     "output_type": "stream",
     "text": [
      "downloading: ['123e9a10-e02f-4d1b-bf84-c44cc054543e']\n",
      "downloading: ['ee9cf11e-420a-48c1-a1a4-b888a65f61fc']\n",
      "downloading: ['addcf7b0-0429-444f-ad15-78d18cc172e0']\n",
      "downloading: ['72b19dfe-18e2-4df3-af99-81205e2083be']\n",
      "downloading: ['70345789-d8e7-47bd-93cc-4abdabf52aa7']\n",
      "downloading: ['e74ed9f5-6b70-482c-b5ee-96837fa81f38']\n",
      "downloading: ['8972760c-34b4-4cc2-ad9b-44146a4ed624']\n",
      "downloading: ['0e5052c4-7eca-427e-9a3b-dc22bbd01be4']\n",
      "downloading: ['784e2ed0-58b2-442d-a547-1d0d0290eed5']\n",
      "downloading: ['8e1cac34-4541-40b0-8837-2c1cc008e830']\n"
     ]
    }
   ],
   "source": [
    "download(BRCA_manifest)"
   ]
  },
  {
   "cell_type": "code",
   "execution_count": null,
   "id": "5f541b9e",
   "metadata": {
    "papermill": {
     "duration": 0.013508,
     "end_time": "2022-03-02T12:16:10.071142",
     "exception": false,
     "start_time": "2022-03-02T12:16:10.057634",
     "status": "completed"
    },
    "tags": []
   },
   "outputs": [],
   "source": []
  }
 ],
 "metadata": {
  "kernelspec": {
   "display_name": "Python 3",
   "language": "python",
   "name": "python3"
  },
  "language_info": {
   "codemirror_mode": {
    "name": "ipython",
    "version": 3
   },
   "file_extension": ".py",
   "mimetype": "text/x-python",
   "name": "python",
   "nbconvert_exporter": "python",
   "pygments_lexer": "ipython3",
   "version": "3.7.12"
  },
  "papermill": {
   "default_parameters": {},
   "duration": 31.300696,
   "end_time": "2022-03-02T12:16:10.797828",
   "environment_variables": {},
   "exception": null,
   "input_path": "__notebook__.ipynb",
   "output_path": "__notebook__.ipynb",
   "parameters": {},
   "start_time": "2022-03-02T12:15:39.497132",
   "version": "2.3.3"
  }
 },
 "nbformat": 4,
 "nbformat_minor": 5
}
